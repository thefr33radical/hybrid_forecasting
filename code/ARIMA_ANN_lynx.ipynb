{
  "nbformat": 4,
  "nbformat_minor": 0,
  "metadata": {
    "colab": {
      "name": "ARIMA-ANN_lynx.ipynb",
      "version": "0.3.2",
      "provenance": [],
      "include_colab_link": true
    },
    "kernelspec": {
      "name": "python3",
      "display_name": "Python 3"
    }
  },
  "cells": [
    {
      "cell_type": "markdown",
      "metadata": {
        "id": "view-in-github",
        "colab_type": "text"
      },
      "source": [
        "<a href=\"https://colab.research.google.com/github/thefr33radical/hybrid_forecasting/blob/master/code/ARIMA_ANN_lynx.ipynb\" target=\"_parent\"><img src=\"https://colab.research.google.com/assets/colab-badge.svg\" alt=\"Open In Colab\"/></a>"
      ]
    },
    {
      "metadata": {
        "id": "rIfDf-5ItXqu",
        "colab_type": "code",
        "colab": {}
      },
      "cell_type": "code",
      "source": [
        "#!pip install statsmodels\n",
        "import pandas as pd \n",
        "import numpy as np\n",
        "from google.colab import files\n",
        "import io\n",
        "from statsmodels.tsa.seasonal import seasonal_decompose\n",
        "from matplotlib import pyplot as plt\n",
        "import keras\n",
        "from keras.layers import Dense\n",
        "from keras.models import Sequential\n",
        "from keras.optimizers import Adam\n",
        "from keras.callbacks import EarlyStopping\n",
        "from sklearn.metrics import r2_score,mean_squared_error as ms\n",
        "from sklearn.preprocessing import MinMaxScaler\n",
        "from statsmodels.tsa.arima_model import ARIMA\n",
        "\n",
        "data = files.upload()\n",
        "data = pd.read_csv(io.BytesIO(data[\"sunspot.csv\"]),index_col=0)\n",
        "print(data.columns)\n",
        "data=data.set_index(\"time\")\n",
        "print(data)\n"
      ],
      "execution_count": 0,
      "outputs": []
    },
    {
      "metadata": {
        "id": "nrKO_JPSO_NV",
        "colab_type": "code",
        "colab": {}
      },
      "cell_type": "code",
      "source": [
        "data.plot()\n",
        "plt.show()"
      ],
      "execution_count": 0,
      "outputs": []
    },
    {
      "metadata": {
        "id": "DmBCdxTZO_6G",
        "colab_type": "code",
        "colab": {}
      },
      "cell_type": "code",
      "source": [
        "linear_data = ndata.trend+ ndata.seasonal \n",
        "linear_data.plot()\n",
        "plt.show()"
      ],
      "execution_count": 0,
      "outputs": []
    },
    {
      "metadata": {
        "id": "0FlM907WPEeo",
        "colab_type": "code",
        "colab": {}
      },
      "cell_type": "code",
      "source": [
        "# ARIMA individual\n",
        "\n",
        "train_data =  non_linear_data.iloc[2:221,:]\n",
        "test_data =  non_linear_data.iloc[272:-2,:]\n",
        "\n",
        "model_arima = ARIMA(train_data, order=(9,0,0))\n",
        "model_fit = model_arima.fit(disp=0)\n",
        "residuals = pd.DataFrame(model_fit.resid)\n",
        "residuals.plot()\n",
        "residuals.plot(kind='kde')\n",
        "plt.show()\n",
        "print(residuals.describe())\n",
        "model_fit.summary()\n",
        "\n",
        "#y_train_pred = model_fit.forecast(x_train)\n",
        "y_test_pred = model_fit.forecast()\n",
        "print(y_test_pred)"
      ],
      "execution_count": 0,
      "outputs": []
    },
    {
      "metadata": {
        "id": "KcdNS76JPFIz",
        "colab_type": "code",
        "colab": {}
      },
      "cell_type": "code",
      "source": [
        "non_linear_data = ndata.resid \n",
        "non_linear_data.plot()\n",
        "plt.show()"
      ],
      "execution_count": 0,
      "outputs": []
    },
    {
      "metadata": {
        "id": "1IDqng1NPN-W",
        "colab_type": "code",
        "colab": {}
      },
      "cell_type": "code",
      "source": [
        "# ANN individual\n",
        "\n",
        "train_data =  non_linear_data.iloc[2:221,:]\n",
        "test_data =  non_linear_data.iloc[222:-2,:]\n",
        "\n",
        "#train_data =  data.iloc[2:221,:]\n",
        "#test_data =  data.iloc[222:-2,:]\n",
        "\n",
        "#scaler = MinMaxScaler(feature_range=(-1, 1))\n",
        "#train_data = scaler.fit_transform(train_data)\n",
        "#test_data = scaler.fit_transform(test_data)\n",
        "\n",
        "x_train = train_data[:-1]\n",
        "y_train = train_data[1:]\n",
        "\n",
        "x_test = test_data[:-1]\n",
        "y_test = test_data[1:]\n",
        "\n",
        "model = Sequential()\n",
        "model.add(Dense(7,input_dim=1,activation=\"sigmoid\"))\n",
        "model.add(Dense(5))\n",
        "model.add(Dense(1))\n",
        "\n",
        "model.compile(loss=\"mean_squared_error\",optimizer=\"Adam\")\n",
        "early_stop = EarlyStopping(monitor =\"loss\",patience =10, verbose =1)\n",
        "model.fit(x_train,y_train, epochs =2, batch_size=15,verbose=1,shuffle= False)\n",
        "y_test_pred = model.predict(x_test)\n",
        "\n",
        "y_train_pred = model.predict(x_train)\n",
        "print(\"The MSE score on the Train set is:\\t{:0.3f}\".format(ms(y_train, y_train_pred)))\n",
        "print(\"The MSE score on the Test set is:\\t{:0.3f}\".format(ms(y_test, y_test_pred)))"
      ],
      "execution_count": 0,
      "outputs": []
    },
    {
      "metadata": {
        "id": "0fVBASlDRkXy",
        "colab_type": "code",
        "colab": {}
      },
      "cell_type": "code",
      "source": [
        "# ARIMA Hybrid\n",
        "\n",
        "train_data =  non_linear_data.iloc[2:221,:]\n",
        "test_data =  non_linear_data.iloc[272:-2,:]\n",
        "\n",
        "model_arima = ARIMA(train_data, order=(9,0,0))\n",
        "model_fit = model_arima.fit(disp=0)\n",
        "residuals = pd.DataFrame(model_fit.resid)\n",
        "residuals.plot()\n",
        "residuals.plot(kind='kde')\n",
        "plt.show()\n",
        "\n",
        "print(residuals.describe())\n",
        "model_fit.summary()\n",
        "y_test_pred = model_fit.forecast()\n",
        "print(y_test_pred)"
      ],
      "execution_count": 0,
      "outputs": []
    },
    {
      "metadata": {
        "id": "XK6jblVYRDUB",
        "colab_type": "code",
        "colab": {}
      },
      "cell_type": "code",
      "source": [
        "# ANN Hybrid\n",
        "import keras\n",
        "from keras.layers import Dense\n",
        "from keras.models import Sequential\n",
        "from keras.optimizers import Adam\n",
        "from keras.callbacks import EarlyStopping\n",
        "from sklearn.metrics import r2_score,mean_squared_error as ms\n",
        "from sklearn.preprocessing import MinMaxScaler\n",
        "\n",
        "train_data =  non_linear_data.iloc[2:221,:]\n",
        "test_data =  non_linear_data.iloc[222:-2,:]\n",
        "\n",
        "x_train = train_data[:-1]\n",
        "y_train = train_data[1:]\n",
        "\n",
        "x_test = test_data[:-1]\n",
        "y_test = test_data[1:]\n",
        "\n",
        "model = Sequential()\n",
        "model.add(Dense(7,input_dim=1,activation=\"sigmoid\"))\n",
        "model.add(Dense(5))\n",
        "model.add(Dense(1))\n",
        "\n",
        "model.compile(loss=\"mean_squared_error\",optimizer=\"Adam\")\n",
        "early_stop = EarlyStopping(monitor =\"loss\",patience =10, verbose =1)\n",
        "model.fit(x_train,y_train, epochs =2, batch_size=15,verbose=1,shuffle= False)\n",
        "\n",
        "y_test_pred = model.predict(x_test)\n",
        "y_train_pred = model.predict(x_train)\n",
        "\n",
        "print(\"The MSE score on the Train set is:\\t{:0.3f}\".format(ms(y_train, y_train_pred)))\n",
        "print(\"The MSE score on the Test set is:\\t{:0.3f}\".format(ms(y_test, y_test_pred)))"
      ],
      "execution_count": 0,
      "outputs": []
    }
  ]
}