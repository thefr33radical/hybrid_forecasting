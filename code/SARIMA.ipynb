{
  "nbformat": 4,
  "nbformat_minor": 0,
  "metadata": {
    "colab": {
      "name": "SARIMA.ipynb",
      "version": "0.3.2",
      "provenance": [],
      "include_colab_link": true
    },
    "kernelspec": {
      "name": "python3",
      "display_name": "Python 3"
    }
  },
  "cells": [
    {
      "cell_type": "markdown",
      "metadata": {
        "id": "view-in-github",
        "colab_type": "text"
      },
      "source": [
        "<a href=\"https://colab.research.google.com/github/thefr33radical/hybrid_forecasting/blob/master/code/SARIMA.ipynb\" target=\"_parent\"><img src=\"https://colab.research.google.com/assets/colab-badge.svg\" alt=\"Open In Colab\"/></a>"
      ]
    },
    {
      "cell_type": "code",
      "metadata": {
        "id": "r5PD5KZbyQuN",
        "colab_type": "code",
        "colab": {
          "base_uri": "https://localhost:8080/",
          "height": 171
        },
        "outputId": "053bf7e8-8f3e-403a-9625-3fa5d521744d"
      },
      "source": [
        "!pip3 install statsmodels"
      ],
      "execution_count": 1,
      "outputs": [
        {
          "output_type": "stream",
          "text": [
            "Requirement already satisfied: statsmodels in /usr/local/lib/python3.6/dist-packages (0.10.0)\n",
            "Requirement already satisfied: numpy>=1.11 in /usr/local/lib/python3.6/dist-packages (from statsmodels) (1.16.4)\n",
            "Requirement already satisfied: pandas>=0.19 in /usr/local/lib/python3.6/dist-packages (from statsmodels) (0.24.2)\n",
            "Requirement already satisfied: scipy>=0.18 in /usr/local/lib/python3.6/dist-packages (from statsmodels) (1.3.0)\n",
            "Requirement already satisfied: patsy>=0.4.0 in /usr/local/lib/python3.6/dist-packages (from statsmodels) (0.5.1)\n",
            "Requirement already satisfied: python-dateutil>=2.5.0 in /usr/local/lib/python3.6/dist-packages (from pandas>=0.19->statsmodels) (2.5.3)\n",
            "Requirement already satisfied: pytz>=2011k in /usr/local/lib/python3.6/dist-packages (from pandas>=0.19->statsmodels) (2018.9)\n",
            "Requirement already satisfied: six in /usr/local/lib/python3.6/dist-packages (from patsy>=0.4.0->statsmodels) (1.12.0)\n"
          ],
          "name": "stdout"
        }
      ]
    },
    {
      "cell_type": "code",
      "metadata": {
        "id": "87ZEgcYY8NdT",
        "colab_type": "code",
        "colab": {}
      },
      "source": [
        "from statsmodels.tsa.holtwinters import SimpleExpSmoothing\n",
        "import pandas as pd\n",
        "from datetime import datetime \n",
        "from matplotlib import pyplot as plt\n",
        "import numpy as np\n",
        "# prepare data\n",
        "\n",
        "def parse_data(d):\n",
        "  \n",
        "  return datetime.strptime(d,\"%Y-%m-%d %H:%M:%S\")\n",
        "\n",
        "saledata = pd.read_csv(\"https://raw.githubusercontent.com/thefr33radical/hybrid_forecasting/master/data/parsed_inpatients.csv\",parse_dates=[1],sep=\",\",date_parser=parse_data,index_col=0,header=0,squeeze=True)\n",
        "\n",
        "saledata.plot.line(x = 'date',y = 'num')\n",
        "plt.show()\n",
        "\n",
        "saledata =np.asarray(saledata.iloc[:,:])\n",
        "# create class\n",
        "# Simple Exponential Smoothing\n",
        "fit1 = SimpleExpSmoothing(saledata).fit(smoothing_level=0.2,optimized=False)\n",
        "fcast1 = fit1.forecast(12).rename(r'$\\alpha=0.2$')\n",
        "# plot\n",
        "fcast1.plot(marker='o', color='blue', legend=True)\n",
        "fit1.fittedvalues.plot(marker='o',  color='blue')\n",
        "\n",
        "\n",
        "\n",
        "fit2 = SimpleExpSmoothing(saledata).fit(smoothing_level=0.6,optimized=False)\n",
        "fcast2 = fit2.forecast(12).rename(r'$\\alpha=0.6$')\n",
        "# plot\n",
        "fcast2.plot(marker='o', color='red', legend=True)\n",
        "fit2.fittedvalues.plot(marker='o', color='red')\n",
        "\n",
        "\n",
        "fit3 = SimpleExpSmoothing(saledata).fit()\n",
        "fcast3 = fit3.forecast(12).rename(r'$\\alpha=%s$'%fit3.model.params['smoothing_level'])\n",
        "# plot\n",
        "fcast3.plot(marker='o', color='green', legend=True)\n",
        "fit3.fittedvalues.plot(marker='o', color='green')\n",
        "\n",
        "plt.show()"
      ],
      "execution_count": 0,
      "outputs": []
    }
  ]
}