{
  "nbformat": 4,
  "nbformat_minor": 0,
  "metadata": {
    "colab": {
      "name": "ARIMA-RNN_sunspot.ipynb",
      "version": "0.3.2",
      "provenance": [],
      "include_colab_link": true
    },
    "kernelspec": {
      "name": "python3",
      "display_name": "Python 3"
    }
  },
  "cells": [
    {
      "cell_type": "markdown",
      "metadata": {
        "id": "view-in-github",
        "colab_type": "text"
      },
      "source": [
        "<a href=\"https://colab.research.google.com/github/thefr33radical/hybrid_forecasting/blob/master/code/ARIMA_RNN_sunspot.ipynb\" target=\"_parent\"><img src=\"https://colab.research.google.com/assets/colab-badge.svg\" alt=\"Open In Colab\"/></a>"
      ]
    },
    {
      "metadata": {
        "id": "8r2N6qviNvLS",
        "colab_type": "code",
        "colab": {}
      },
      "cell_type": "code",
      "source": [
        "#!pip uninstall pyramid\n",
        "#!pip uninstall pyramid-arima\n",
        "#!pip install pyramid-arima\n",
        "#!pip install statsmodels\n",
        "#!pip install pyramid-arima"
      ],
      "execution_count": 0,
      "outputs": []
    },
    {
      "metadata": {
        "id": "gv4aXjDDey7-",
        "colab_type": "code",
        "outputId": "5fcce5f8-b37e-4166-90c6-9b99aca38cbd",
        "colab": {
          "resources": {
            "http://localhost:8080/nbextensions/google.colab/files.js": {
              "data": "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",
              "ok": true,
              "headers": [
                [
                  "content-type",
                  "application/javascript"
                ]
              ],
              "status": 200,
              "status_text": ""
            }
          },
          "base_uri": "https://localhost:8080/",
          "height": 1446
        }
      },
      "cell_type": "code",
      "source": [
        "import pandas as pd \n",
        "import numpy as np\n",
        "from google.colab import files\n",
        "import io\n",
        "from sklearn.metrics import r2_score,mean_squared_error as ms\n",
        "from statsmodels.tsa.seasonal import seasonal_decompose\n",
        "from matplotlib import pyplot as plt\n",
        "from pyramid.arima import auto_arima \n",
        "\n",
        "data = files.upload()\n",
        "data = pd.read_csv(io.BytesIO(data[\"sunspot.csv\"]))\n",
        "data=data.set_index(\"time\")\n",
        "\n",
        "\n",
        "data.plot()\n",
        "plt.show()"
      ],
      "execution_count": 0,
      "outputs": [
        {
          "output_type": "display_data",
          "data": {
            "text/html": [
              "\n",
              "     <input type=\"file\" id=\"files-037d3240-d85f-4382-8142-ec1702b2c0e0\" name=\"files[]\" multiple disabled />\n",
              "     <output id=\"result-037d3240-d85f-4382-8142-ec1702b2c0e0\">\n",
              "      Upload widget is only available when the cell has been executed in the\n",
              "      current browser session. Please rerun this cell to enable.\n",
              "      </output>\n",
              "      <script src=\"/nbextensions/google.colab/files.js\"></script> "
            ],
            "text/plain": [
              "<IPython.core.display.HTML object>"
            ]
          },
          "metadata": {
            "tags": []
          }
        },
        {
          "output_type": "stream",
          "text": [
            "Saving sunspot.csv to sunspot (4).csv\n",
            "      value\n",
            "time       \n",
            "1700    5.0\n",
            "1701   11.0\n",
            "1702   16.0\n",
            "1703   23.0\n",
            "1704   36.0\n",
            "1705   58.0\n",
            "1706   29.0\n",
            "1707   20.0\n",
            "1708   10.0\n",
            "1709    8.0\n",
            "1710    3.0\n",
            "1711    0.0\n",
            "1712    0.0\n",
            "1713    2.0\n",
            "1714   11.0\n",
            "1715   27.0\n",
            "1716   47.0\n",
            "1717   63.0\n",
            "1718   60.0\n",
            "1719   39.0\n",
            "1720   28.0\n",
            "1721   26.0\n",
            "1722   22.0\n",
            "1723   11.0\n",
            "1724   21.0\n",
            "1725   40.0\n",
            "1726   78.0\n",
            "1727  122.0\n",
            "1728  103.0\n",
            "1729   73.0\n",
            "...     ...\n",
            "1959  159.0\n",
            "1960  112.3\n",
            "1961   53.9\n",
            "1962   37.5\n",
            "1963   27.9\n",
            "1964   10.2\n",
            "1965   15.1\n",
            "1966   47.0\n",
            "1967   93.8\n",
            "1968  105.9\n",
            "1969  105.5\n",
            "1970  104.5\n",
            "1971   66.6\n",
            "1972   68.9\n",
            "1973   38.0\n",
            "1974   34.5\n",
            "1975   15.5\n",
            "1976   12.6\n",
            "1977   27.5\n",
            "1978   92.5\n",
            "1979  155.4\n",
            "1980  154.7\n",
            "1981  140.5\n",
            "1982  115.9\n",
            "1983   66.6\n",
            "1984   45.9\n",
            "1985   17.9\n",
            "1986   13.4\n",
            "1987   29.2\n",
            "1988  100.2\n",
            "\n",
            "[289 rows x 1 columns]\n"
          ],
          "name": "stdout"
        },
        {
          "output_type": "display_data",
          "data": {
            "image/png": "[encoded data removed]",
            "text/plain": [
              "<Figure size 432x288 with 1 Axes>"
            ]
          },
          "metadata": {
            "tags": []
          }
        }
      ]
    },
    {
      "metadata": {
        "id": "Tfg6FS5hX-n1",
        "colab_type": "code",
        "outputId": "30bd7d6a-4872-4d01-cd94-5a487a56bd10",
        "colab": {
          "base_uri": "https://localhost:8080/",
          "height": 297
        }
      },
      "cell_type": "code",
      "source": [
        "ndata= seasonal_decompose(data,model=\"additive\",freq=12)\n",
        "ndata.plot()\n",
        "plt.show()"
      ],
      "execution_count": 0,
      "outputs": [
        {
          "output_type": "display_data",
          "data": {
            "image/png": "[encoded data removed]",
            "text/plain": [
              "<Figure size 432x288 with 4 Axes>"
            ]
          },
          "metadata": {
            "tags": []
          }
        }
      ]
    },
    {
      "metadata": {
        "id": "JAV23rBQ6v2a",
        "colab_type": "code",
        "outputId": "d54a7520-cf9b-4fdb-9069-89f5def3ea4f",
        "colab": {
          "base_uri": "https://localhost:8080/",
          "height": 197
        }
      },
      "cell_type": "code",
      "source": [
        "linear_data = ndata.trend+ ndata.seasonal \n",
        "linear_data.plot()\n",
        "plt.show()"
      ],
      "execution_count": 1,
      "outputs": [
        {
          "output_type": "error",
          "ename": "NameError",
          "evalue": "ignored",
          "traceback": [
            "\u001b[0;31m---------------------------------------------------------------------------\u001b[0m",
            "\u001b[0;31mNameError\u001b[0m                                 Traceback (most recent call last)",
            "\u001b[0;32m<ipython-input-1-715e1781b2c5>\u001b[0m in \u001b[0;36m<module>\u001b[0;34m()\u001b[0m\n\u001b[0;32m----> 1\u001b[0;31m \u001b[0mlinear_data\u001b[0m \u001b[0;34m=\u001b[0m \u001b[0mndata\u001b[0m\u001b[0;34m.\u001b[0m\u001b[0mtrend\u001b[0m\u001b[0;34m+\u001b[0m \u001b[0mndata\u001b[0m\u001b[0;34m.\u001b[0m\u001b[0mseasonal\u001b[0m\u001b[0;34m\u001b[0m\u001b[0;34m\u001b[0m\u001b[0m\n\u001b[0m\u001b[1;32m      2\u001b[0m \u001b[0mlinear_data\u001b[0m\u001b[0;34m.\u001b[0m\u001b[0mplot\u001b[0m\u001b[0;34m(\u001b[0m\u001b[0;34m)\u001b[0m\u001b[0;34m\u001b[0m\u001b[0;34m\u001b[0m\u001b[0m\n\u001b[1;32m      3\u001b[0m \u001b[0mplt\u001b[0m\u001b[0;34m.\u001b[0m\u001b[0mshow\u001b[0m\u001b[0;34m(\u001b[0m\u001b[0;34m)\u001b[0m\u001b[0;34m\u001b[0m\u001b[0;34m\u001b[0m\u001b[0m\n",
            "\u001b[0;31mNameError\u001b[0m: name 'ndata' is not defined"
          ]
        }
      ]
    },
    {
      "metadata": {
        "id": "4Doyvk4peVCl",
        "colab_type": "code",
        "outputId": "f3c1c4bb-63d4-42e7-cf21-b471962aabc6",
        "colab": {
          "base_uri": "https://localhost:8080/",
          "height": 374
        }
      },
      "cell_type": "code",
      "source": [
        "# Indvidual ARIMA\n",
        "\n",
        "stepwise_model1 = auto_arima(data,start_P=1,max_p=9,trace=True, \n",
        "                           error_action='ignore',  \n",
        "                           suppress_warnings=True, \n",
        "                           stepwise=True)\n",
        "print(stepwise_model1.aic())\n",
        "\n",
        "\"\"\"\n",
        "# 67 period horizon\n",
        "train = data.loc['1700-01-01':'1920-01-01']\n",
        "test = data.loc['1920-01-01':'1987-01-01']\n",
        "\n",
        "# 35 period horizon\n",
        "train = data.loc['1700-01-01':'1952-01-01']\n",
        "test = data.loc['1952-01-01':'1987-01-01']\n",
        "\"\"\"\n",
        "\n",
        "# 35 period horizon\n",
        "train = data.loc['1700-01-01':'1952-01-01']\n",
        "test = data.loc['1952-01-01':'1987-01-01']\n",
        "stepwise_model1.fit(train)\n",
        "\n",
        "future_forecast1 = stepwise_model1.predict(n_periods=35)"
      ],
      "execution_count": 0,
      "outputs": [
        {
          "output_type": "stream",
          "text": [
            "Fit ARIMA: order=(2, 1, 2) seasonal_order=(0, 0, 0, 1); AIC=nan, BIC=nan, Fit time=nan seconds\n",
            "Fit ARIMA: order=(0, 1, 0) seasonal_order=(0, 0, 0, 1); AIC=2645.435, BIC=2652.761, Fit time=0.029 seconds\n",
            "Fit ARIMA: order=(1, 1, 0) seasonal_order=(0, 0, 0, 1); AIC=2550.946, BIC=2561.935, Fit time=0.071 seconds\n",
            "Fit ARIMA: order=(0, 1, 1) seasonal_order=(0, 0, 0, 1); AIC=2561.691, BIC=2572.680, Fit time=0.215 seconds\n",
            "Fit ARIMA: order=(2, 1, 0) seasonal_order=(0, 0, 0, 1); AIC=2534.879, BIC=2549.531, Fit time=0.167 seconds\n",
            "Fit ARIMA: order=(2, 1, 1) seasonal_order=(0, 0, 0, 1); AIC=nan, BIC=nan, Fit time=nan seconds\n",
            "Fit ARIMA: order=(3, 1, 1) seasonal_order=(0, 0, 0, 1); AIC=2427.188, BIC=2449.165, Fit time=0.409 seconds\n",
            "Fit ARIMA: order=(4, 1, 1) seasonal_order=(0, 0, 0, 1); AIC=2426.226, BIC=2451.866, Fit time=0.702 seconds\n",
            "Fit ARIMA: order=(4, 1, 0) seasonal_order=(0, 0, 0, 1); AIC=2495.424, BIC=2517.402, Fit time=0.332 seconds\n",
            "Fit ARIMA: order=(4, 1, 2) seasonal_order=(0, 0, 0, 1); AIC=nan, BIC=nan, Fit time=nan seconds\n",
            "Fit ARIMA: order=(3, 1, 0) seasonal_order=(0, 0, 0, 1); AIC=2503.785, BIC=2522.100, Fit time=0.210 seconds\n",
            "Fit ARIMA: order=(5, 1, 2) seasonal_order=(0, 0, 0, 1); AIC=nan, BIC=nan, Fit time=nan seconds\n",
            "Fit ARIMA: order=(5, 1, 1) seasonal_order=(0, 0, 0, 1); AIC=2409.513, BIC=2438.816, Fit time=0.871 seconds\n",
            "Fit ARIMA: order=(5, 1, 0) seasonal_order=(0, 0, 0, 1); AIC=2465.456, BIC=2491.097, Fit time=0.600 seconds\n",
            "Fit ARIMA: order=(6, 1, 2) seasonal_order=(0, 0, 0, 1); AIC=2403.168, BIC=2439.798, Fit time=1.876 seconds\n",
            "Fit ARIMA: order=(7, 1, 2) seasonal_order=(0, 0, 0, 1); AIC=2404.287, BIC=2444.580, Fit time=2.100 seconds\n",
            "Fit ARIMA: order=(6, 1, 1) seasonal_order=(0, 0, 0, 1); AIC=2405.628, BIC=2438.595, Fit time=1.057 seconds\n",
            "Fit ARIMA: order=(6, 1, 3) seasonal_order=(0, 0, 0, 1); AIC=nan, BIC=nan, Fit time=nan seconds\n",
            "Fit ARIMA: order=(7, 1, 3) seasonal_order=(0, 0, 0, 1); AIC=2407.132, BIC=2451.088, Fit time=1.863 seconds\n",
            "Total fit time: 10.540 seconds\n",
            "2403.1684189562034\n"
          ],
          "name": "stdout"
        }
      ]
    },
    {
      "metadata": {
        "id": "kAhZDNKto6WV",
        "colab_type": "code",
        "outputId": "7435c0ac-add0-4e83-9df7-b2b625e62f3f",
        "colab": {
          "base_uri": "https://localhost:8080/",
          "height": 34
        }
      },
      "cell_type": "code",
      "source": [
        "# Individual ARIMA Score\n",
        "print(ms(test,future_forecast1))\n"
      ],
      "execution_count": 0,
      "outputs": [
        {
          "output_type": "stream",
          "text": [
            "942.0115584244164\n"
          ],
          "name": "stdout"
        }
      ]
    },
    {
      "metadata": {
        "id": "ojz-k_XfoiL7",
        "colab_type": "code",
        "outputId": "cdc8d600-753c-4a8d-c40e-3f274d7c92cc",
        "colab": {
          "base_uri": "https://localhost:8080/",
          "height": 221
        }
      },
      "cell_type": "code",
      "source": [
        "# Hybrid ARIMA\n",
        "\n",
        "stepwise_model2 = auto_arima(linear_data[6:-6],start_P=1,max_p=9,trace=True, \n",
        "                           error_action='ignore',  \n",
        "                           suppress_warnings=True, \n",
        "                           stepwise=True)\n",
        "print(stepwise_model2.aic())\n",
        "\n",
        "\"\"\"\n",
        "# 67 period horizon\n",
        "train = data.loc['1700-01-01':'1920-01-01']\n",
        "test = data.loc['1920-01-01':'1987-01-01']\n",
        "\n",
        "# 35 period horizon\n",
        "train = data.loc['1700-01-01':'1952-01-01']\n",
        "test = data.loc['1952-01-01':'1987-01-01']\n",
        "\"\"\"\n",
        "\n",
        "# 35 period horizon\n",
        "train = linear_data.loc['1706-01-01':'1947-01-01']\n",
        "test = linear_data.loc['1947-01-01':'1982-01-01']\n",
        "stepwise_model2.fit(train)\n",
        "\n",
        "future_forecast2 = stepwise_model2.predict(n_periods=35)\n"
      ],
      "execution_count": 0,
      "outputs": [
        {
          "output_type": "stream",
          "text": [
            "Fit ARIMA: order=(2, 1, 2) seasonal_order=(0, 0, 0, 1); AIC=1169.247, BIC=1190.970, Fit time=0.330 seconds\n",
            "Fit ARIMA: order=(0, 1, 0) seasonal_order=(0, 0, 0, 1); AIC=1844.703, BIC=1851.944, Fit time=0.021 seconds\n",
            "Fit ARIMA: order=(1, 1, 0) seasonal_order=(0, 0, 0, 1); AIC=1561.785, BIC=1572.646, Fit time=0.055 seconds\n",
            "Fit ARIMA: order=(0, 1, 1) seasonal_order=(0, 0, 0, 1); AIC=nan, BIC=nan, Fit time=nan seconds\n",
            "Fit ARIMA: order=(1, 1, 2) seasonal_order=(0, 0, 0, 1); AIC=nan, BIC=nan, Fit time=nan seconds\n",
            "Fit ARIMA: order=(3, 1, 2) seasonal_order=(0, 0, 0, 1); AIC=nan, BIC=nan, Fit time=nan seconds\n",
            "Fit ARIMA: order=(2, 1, 1) seasonal_order=(0, 0, 0, 1); AIC=1168.500, BIC=1186.602, Fit time=0.188 seconds\n",
            "Fit ARIMA: order=(1, 1, 1) seasonal_order=(0, 0, 0, 1); AIC=nan, BIC=nan, Fit time=nan seconds\n",
            "Fit ARIMA: order=(3, 1, 1) seasonal_order=(0, 0, 0, 1); AIC=1170.266, BIC=1191.988, Fit time=0.213 seconds\n",
            "Fit ARIMA: order=(2, 1, 0) seasonal_order=(0, 0, 0, 1); AIC=1257.144, BIC=1271.626, Fit time=0.072 seconds\n",
            "Total fit time: 0.909 seconds\n",
            "1168.499716487121\n"
          ],
          "name": "stdout"
        }
      ]
    },
    {
      "metadata": {
        "id": "2rikaC-iiLxS",
        "colab_type": "code",
        "outputId": "313840ec-161c-445e-ce3e-4f86d31dab08",
        "colab": {
          "base_uri": "https://localhost:8080/",
          "height": 34
        }
      },
      "cell_type": "code",
      "source": [
        "# Hybrid ARIMA Score\n",
        "print(ms(test,future_forecast2))"
      ],
      "execution_count": 0,
      "outputs": [
        {
          "output_type": "stream",
          "text": [
            "209.36480268055587\n"
          ],
          "name": "stdout"
        }
      ]
    },
    {
      "metadata": {
        "id": "lTYMkFQl6i_2",
        "colab_type": "code",
        "outputId": "c48d44e4-f2bf-4f8d-fc91-39dbed574f91",
        "colab": {
          "base_uri": "https://localhost:8080/",
          "height": 283
        }
      },
      "cell_type": "code",
      "source": [
        "# Use non lnear data for ANN\n",
        "non_linear_data = ndata.resid\n",
        "non_linear_data.plot()\n",
        "plt.show()"
      ],
      "execution_count": 0,
      "outputs": [
        {
          "output_type": "display_data",
          "data": {
            "image/png": "[encoded data removed]",
            "text/plain": [
              "<Figure size 432x288 with 1 Axes>"
            ]
          },
          "metadata": {
            "tags": []
          }
        }
      ]
    },
    {
      "metadata": {
        "id": "ShdY_pDwKLgr",
        "colab_type": "text"
      },
      "cell_type": "markdown",
      "source": [
        "* https://machinelearningmastery.com/decompose-time-series-data-trend-seasonality/\n",
        "* https://anomaly.io/seasonal-trend-decomposition-in-r/\n",
        "* Text Books - Forecasting: Principles and Practice https://otexts.com/fpp2/"
      ]
    },
    {
      "metadata": {
        "id": "23XxlErpVkpn",
        "colab_type": "code",
        "outputId": "210f524c-9a53-4f22-fcc5-93ad23aa8933",
        "colab": {
          "base_uri": "https://localhost:8080/",
          "height": 3417
        }
      },
      "cell_type": "code",
      "source": [
        "# Individual ANN\n",
        "import keras\n",
        "from keras.layers import Dense\n",
        "from keras.models import Sequential\n",
        "from keras.optimizers import Adam\n",
        "from keras.callbacks import EarlyStopping\n",
        "from sklearn.metrics import r2_score,mean_squared_error as ms\n",
        "from sklearn.preprocessing import MinMaxScaler\n",
        "\n",
        "\"\"\"\n",
        "train_data =  non_linear_data.iloc[2:221,:]\n",
        "test_data =  non_linear_data.iloc[222:-2,:]\n",
        "\"\"\"\n",
        "\n",
        "train_data =  data.iloc[:252,:]\n",
        "test_data =  data.iloc[253:,:]\n",
        "\n",
        "x_train = train_data[:-1]\n",
        "y_train = train_data[1:]\n",
        "\n",
        "x_test = test_data[:-1]\n",
        "y_test = test_data[1:]\n",
        "\n",
        "model = Sequential()\n",
        "model.add(Dense(4,input_dim=1,activation=\"sigmoid\"))\n",
        "model.add(Dense(4))\n",
        "model.add(Dense(1))\n",
        "\n",
        "model.compile(loss=\"mean_squared_error\",optimizer=\"adam\")\n",
        "early_stop = EarlyStopping(monitor =\"loss\",patience =20, verbose =1)\n",
        "model.fit(x_train,y_train, epochs =100, callbacks=[early_stop],batch_size=10,verbose=1,shuffle= False)\n",
        "y_test_pred = model.predict(x_test)\n",
        "\n",
        "y_train_pred = model.predict(x_train)\n"
      ],
      "execution_count": 0,
      "outputs": [
        {
          "output_type": "stream",
          "text": [
            "Epoch 1/100\n",
            "251/251 [==============================] - 0s 2ms/step - loss: 3335.9910\n",
            "Epoch 2/100\n",
            "251/251 [==============================] - 0s 142us/step - loss: 3323.4071\n",
            "Epoch 3/100\n",
            "251/251 [==============================] - 0s 126us/step - loss: 3311.4589\n",
            "Epoch 4/100\n",
            "251/251 [==============================] - 0s 135us/step - loss: 3299.7161\n",
            "Epoch 5/100\n",
            "251/251 [==============================] - 0s 125us/step - loss: 3287.6241\n",
            "Epoch 6/100\n",
            "251/251 [==============================] - 0s 129us/step - loss: 3274.4171\n",
            "Epoch 7/100\n",
            "251/251 [==============================] - 0s 132us/step - loss: 3259.1502\n",
            "Epoch 8/100\n",
            "251/251 [==============================] - 0s 132us/step - loss: 3240.8448\n",
            "Epoch 9/100\n",
            "251/251 [==============================] - 0s 140us/step - loss: 3215.1366\n",
            "Epoch 10/100\n",
            "251/251 [==============================] - 0s 137us/step - loss: 3138.1402\n",
            "Epoch 11/100\n",
            "251/251 [==============================] - 0s 132us/step - loss: 3070.7649\n",
            "Epoch 12/100\n",
            "251/251 [==============================] - 0s 132us/step - loss: 3012.7340\n",
            "Epoch 13/100\n",
            "251/251 [==============================] - 0s 134us/step - loss: 2953.6464\n",
            "Epoch 14/100\n",
            "251/251 [==============================] - 0s 134us/step - loss: 2892.8810\n",
            "Epoch 15/100\n",
            "251/251 [==============================] - 0s 126us/step - loss: 2830.4764\n",
            "Epoch 16/100\n",
            "251/251 [==============================] - 0s 126us/step - loss: 2766.6426\n",
            "Epoch 17/100\n",
            "251/251 [==============================] - 0s 132us/step - loss: 2701.6552\n",
            "Epoch 18/100\n",
            "251/251 [==============================] - 0s 120us/step - loss: 2635.8032\n",
            "Epoch 19/100\n",
            "251/251 [==============================] - 0s 113us/step - loss: 2569.3913\n",
            "Epoch 20/100\n",
            "251/251 [==============================] - 0s 131us/step - loss: 2502.7264\n",
            "Epoch 21/100\n",
            "251/251 [==============================] - 0s 142us/step - loss: 2436.0904\n",
            "Epoch 22/100\n",
            "251/251 [==============================] - 0s 126us/step - loss: 2369.7744\n",
            "Epoch 23/100\n",
            "251/251 [==============================] - 0s 126us/step - loss: 2304.0508\n",
            "Epoch 24/100\n",
            "251/251 [==============================] - 0s 126us/step - loss: 2239.1632\n",
            "Epoch 25/100\n",
            "251/251 [==============================] - 0s 136us/step - loss: 2175.3484\n",
            "Epoch 26/100\n",
            "251/251 [==============================] - 0s 120us/step - loss: 2112.8123\n",
            "Epoch 27/100\n",
            "251/251 [==============================] - 0s 138us/step - loss: 2051.7504\n",
            "Epoch 28/100\n",
            "251/251 [==============================] - 0s 120us/step - loss: 1992.3234\n",
            "Epoch 29/100\n",
            "251/251 [==============================] - 0s 136us/step - loss: 1934.6735\n",
            "Epoch 30/100\n",
            "251/251 [==============================] - 0s 147us/step - loss: 1878.8927\n",
            "Epoch 31/100\n",
            "251/251 [==============================] - 0s 136us/step - loss: 1825.0356\n",
            "Epoch 32/100\n",
            "251/251 [==============================] - 0s 126us/step - loss: 1773.0987\n",
            "Epoch 33/100\n",
            "251/251 [==============================] - 0s 133us/step - loss: 1723.0130\n",
            "Epoch 34/100\n",
            "251/251 [==============================] - 0s 133us/step - loss: 1674.6256\n",
            "Epoch 35/100\n",
            "251/251 [==============================] - 0s 130us/step - loss: 1627.7329\n",
            "Epoch 36/100\n",
            "251/251 [==============================] - 0s 131us/step - loss: 1582.3245\n",
            "Epoch 37/100\n",
            "251/251 [==============================] - 0s 119us/step - loss: 1538.4646\n",
            "Epoch 38/100\n",
            "251/251 [==============================] - 0s 117us/step - loss: 1495.5975\n",
            "Epoch 39/100\n",
            "251/251 [==============================] - 0s 118us/step - loss: 1453.5055\n",
            "Epoch 40/100\n",
            "251/251 [==============================] - 0s 132us/step - loss: 1413.6104\n",
            "Epoch 41/100\n",
            "251/251 [==============================] - 0s 141us/step - loss: 1376.1426\n",
            "Epoch 42/100\n",
            "251/251 [==============================] - 0s 134us/step - loss: 1340.3013\n",
            "Epoch 43/100\n",
            "251/251 [==============================] - 0s 122us/step - loss: 1306.0506\n",
            "Epoch 44/100\n",
            "251/251 [==============================] - 0s 132us/step - loss: 1273.3602\n",
            "Epoch 45/100\n",
            "251/251 [==============================] - 0s 122us/step - loss: 1242.2142\n",
            "Epoch 46/100\n",
            "251/251 [==============================] - 0s 128us/step - loss: 1212.5645\n",
            "Epoch 47/100\n",
            "251/251 [==============================] - 0s 126us/step - loss: 1184.3411\n",
            "Epoch 48/100\n",
            "251/251 [==============================] - 0s 131us/step - loss: 1157.4736\n",
            "Epoch 49/100\n",
            "251/251 [==============================] - 0s 134us/step - loss: 1131.8950\n",
            "Epoch 50/100\n",
            "251/251 [==============================] - 0s 132us/step - loss: 1107.5409\n",
            "Epoch 51/100\n",
            "251/251 [==============================] - 0s 139us/step - loss: 1084.3485\n",
            "Epoch 52/100\n",
            "251/251 [==============================] - 0s 126us/step - loss: 1062.2566\n",
            "Epoch 53/100\n",
            "251/251 [==============================] - 0s 130us/step - loss: 1041.2051\n",
            "Epoch 54/100\n",
            "251/251 [==============================] - 0s 145us/step - loss: 1021.1361\n",
            "Epoch 55/100\n",
            "251/251 [==============================] - 0s 143us/step - loss: 1001.9944\n",
            "Epoch 56/100\n",
            "251/251 [==============================] - 0s 137us/step - loss: 983.7268\n",
            "Epoch 57/100\n",
            "251/251 [==============================] - 0s 155us/step - loss: 966.2825\n",
            "Epoch 58/100\n",
            "251/251 [==============================] - 0s 146us/step - loss: 949.6142\n",
            "Epoch 59/100\n",
            "251/251 [==============================] - 0s 153us/step - loss: 933.6765\n",
            "Epoch 60/100\n",
            "251/251 [==============================] - 0s 139us/step - loss: 918.4268\n",
            "Epoch 61/100\n",
            "251/251 [==============================] - 0s 141us/step - loss: 903.8250\n",
            "Epoch 62/100\n",
            "251/251 [==============================] - 0s 139us/step - loss: 889.8333\n",
            "Epoch 63/100\n",
            "251/251 [==============================] - 0s 158us/step - loss: 876.4166\n",
            "Epoch 64/100\n",
            "251/251 [==============================] - 0s 160us/step - loss: 863.5413\n",
            "Epoch 65/100\n",
            "251/251 [==============================] - 0s 157us/step - loss: 851.1761\n",
            "Epoch 66/100\n",
            "251/251 [==============================] - 0s 167us/step - loss: 839.2923\n",
            "Epoch 67/100\n",
            "251/251 [==============================] - 0s 152us/step - loss: 827.8617\n",
            "Epoch 68/100\n",
            "251/251 [==============================] - 0s 139us/step - loss: 816.8589\n",
            "Epoch 69/100\n",
            "251/251 [==============================] - 0s 135us/step - loss: 806.2594\n",
            "Epoch 70/100\n",
            "251/251 [==============================] - 0s 149us/step - loss: 796.0399\n",
            "Epoch 71/100\n",
            "251/251 [==============================] - 0s 157us/step - loss: 786.1773\n",
            "Epoch 72/100\n",
            "251/251 [==============================] - 0s 151us/step - loss: 776.6501\n",
            "Epoch 73/100\n",
            "251/251 [==============================] - 0s 154us/step - loss: 767.4358\n",
            "Epoch 74/100\n",
            "251/251 [==============================] - 0s 170us/step - loss: 758.5119\n",
            "Epoch 75/100\n",
            "251/251 [==============================] - 0s 147us/step - loss: 749.8534\n",
            "Epoch 76/100\n",
            "251/251 [==============================] - 0s 151us/step - loss: 741.4314\n",
            "Epoch 77/100\n",
            "251/251 [==============================] - 0s 142us/step - loss: 733.2081\n",
            "Epoch 78/100\n",
            "251/251 [==============================] - 0s 163us/step - loss: 725.1292\n",
            "Epoch 79/100\n",
            "251/251 [==============================] - 0s 152us/step - loss: 717.1032\n",
            "Epoch 80/100\n",
            "251/251 [==============================] - 0s 141us/step - loss: 708.9511\n",
            "Epoch 81/100\n",
            "251/251 [==============================] - 0s 165us/step - loss: 700.2291\n",
            "Epoch 82/100\n",
            "251/251 [==============================] - 0s 142us/step - loss: 689.4575\n",
            "Epoch 83/100\n",
            "251/251 [==============================] - 0s 150us/step - loss: 675.4924\n",
            "Epoch 84/100\n",
            "251/251 [==============================] - 0s 165us/step - loss: 666.4402\n",
            "Epoch 85/100\n",
            "251/251 [==============================] - 0s 148us/step - loss: 657.3528\n",
            "Epoch 86/100\n",
            "251/251 [==============================] - 0s 138us/step - loss: 649.0069\n",
            "Epoch 87/100\n",
            "251/251 [==============================] - 0s 150us/step - loss: 640.9354\n",
            "Epoch 88/100\n",
            "251/251 [==============================] - 0s 148us/step - loss: 633.1837\n",
            "Epoch 89/100\n",
            "251/251 [==============================] - 0s 165us/step - loss: 625.7170\n",
            "Epoch 90/100\n",
            "251/251 [==============================] - 0s 149us/step - loss: 618.5189\n",
            "Epoch 91/100\n",
            "251/251 [==============================] - 0s 157us/step - loss: 611.5762\n",
            "Epoch 92/100\n",
            "251/251 [==============================] - 0s 136us/step - loss: 604.8773\n",
            "Epoch 93/100\n",
            "251/251 [==============================] - 0s 155us/step - loss: 598.4124\n",
            "Epoch 94/100\n",
            "251/251 [==============================] - 0s 172us/step - loss: 592.1728\n",
            "Epoch 95/100\n",
            "251/251 [==============================] - 0s 134us/step - loss: 586.1498\n",
            "Epoch 96/100\n",
            "251/251 [==============================] - 0s 139us/step - loss: 580.3368\n",
            "Epoch 97/100\n",
            "251/251 [==============================] - 0s 157us/step - loss: 574.7266\n",
            "Epoch 98/100\n",
            "251/251 [==============================] - 0s 139us/step - loss: 569.3123\n",
            "Epoch 99/100\n",
            "251/251 [==============================] - 0s 142us/step - loss: 564.0879\n",
            "Epoch 100/100\n",
            "251/251 [==============================] - 0s 152us/step - loss: 559.0473\n"
          ],
          "name": "stdout"
        }
      ]
    },
    {
      "metadata": {
        "id": "xqCN6P1MqSCF",
        "colab_type": "code",
        "outputId": "054253a7-cadb-4d6d-814f-0348b6011191",
        "colab": {
          "base_uri": "https://localhost:8080/",
          "height": 51
        }
      },
      "cell_type": "code",
      "source": [
        "# Individual ANN Score\n",
        "\n",
        "print(\"The MSE score on the Train set is:\\t{:0.3f}\".format(ms(y_train, y_train_pred)))\n",
        "print(\"The MSE score on the Test set is:\\t{:0.3f}\".format(ms(y_test, y_test_pred)))"
      ],
      "execution_count": 0,
      "outputs": [
        {
          "output_type": "stream",
          "text": [
            "The MSE score on the Train set is:\t555.339\n",
            "The MSE score on the Test set is:\t2406.460\n"
          ],
          "name": "stdout"
        }
      ]
    },
    {
      "metadata": {
        "id": "ZRRgG49UoKYN",
        "colab_type": "code",
        "outputId": "4aaf117a-584e-4943-e392-1b5b5c4281f0",
        "colab": {
          "base_uri": "https://localhost:8080/",
          "height": 3417
        }
      },
      "cell_type": "code",
      "source": [
        "# Hybrid ANN\n",
        "import keras\n",
        "from keras.layers import Dense\n",
        "from keras.models import Sequential\n",
        "from keras.optimizers import Adam\n",
        "from keras.callbacks import EarlyStopping\n",
        "from sklearn.metrics import r2_score,mean_squared_error as ms\n",
        "from sklearn.preprocessing import MinMaxScaler\n",
        "\n",
        "train_data2 =  non_linear_data.iloc[6:247,:]\n",
        "test_data2 =  non_linear_data.iloc[247:282,:]\n",
        "\n",
        "x_train2 = train_data2[:-1]\n",
        "y_train2 = train_data2[1:]\n",
        "\n",
        "x_test2 = test_data2[:-1]\n",
        "y_test2 = test_data2[1:]\n",
        "\n",
        "model2 = Sequential()\n",
        "model2.add(Dense(4,input_dim=1,activation=\"sigmoid\"))\n",
        "model2.add(Dense(4))\n",
        "model2.add(Dense(1))\n",
        "\n",
        "model2.compile(loss=\"mean_squared_error\",optimizer=\"adam\")\n",
        "early_stop = EarlyStopping(monitor =\"loss\",patience =20, verbose =1)\n",
        "model2.fit(x_train2,y_train2, epochs =100, batch_size=10,verbose=1,shuffle= False)\n",
        "\n",
        "y_test_pred2 = model2.predict(x_test2)\n",
        "y_train_pred2 = model2.predict(x_train2)\n"
      ],
      "execution_count": 0,
      "outputs": [
        {
          "output_type": "stream",
          "text": [
            "Epoch 1/100\n",
            "240/240 [==============================] - 0s 2ms/step - loss: 1046.1133\n",
            "Epoch 2/100\n",
            "240/240 [==============================] - 0s 123us/step - loss: 1039.6881\n",
            "Epoch 3/100\n",
            "240/240 [==============================] - 0s 132us/step - loss: 1033.3232\n",
            "Epoch 4/100\n",
            "240/240 [==============================] - 0s 130us/step - loss: 1026.9991\n",
            "Epoch 5/100\n",
            "240/240 [==============================] - 0s 127us/step - loss: 1020.6677\n",
            "Epoch 6/100\n",
            "240/240 [==============================] - 0s 134us/step - loss: 1014.2941\n",
            "Epoch 7/100\n",
            "240/240 [==============================] - 0s 131us/step - loss: 1007.8534\n",
            "Epoch 8/100\n",
            "240/240 [==============================] - 0s 137us/step - loss: 1001.3241\n",
            "Epoch 9/100\n",
            "240/240 [==============================] - 0s 136us/step - loss: 994.6862\n",
            "Epoch 10/100\n",
            "240/240 [==============================] - 0s 125us/step - loss: 987.9237\n",
            "Epoch 11/100\n",
            "240/240 [==============================] - 0s 134us/step - loss: 981.0217\n",
            "Epoch 12/100\n",
            "240/240 [==============================] - 0s 126us/step - loss: 973.9651\n",
            "Epoch 13/100\n",
            "240/240 [==============================] - 0s 120us/step - loss: 966.7369\n",
            "Epoch 14/100\n",
            "240/240 [==============================] - 0s 128us/step - loss: 959.3214\n",
            "Epoch 15/100\n",
            "240/240 [==============================] - 0s 140us/step - loss: 951.6998\n",
            "Epoch 16/100\n",
            "240/240 [==============================] - 0s 129us/step - loss: 943.8511\n",
            "Epoch 17/100\n",
            "240/240 [==============================] - 0s 132us/step - loss: 935.7536\n",
            "Epoch 18/100\n",
            "240/240 [==============================] - 0s 170us/step - loss: 927.3859\n",
            "Epoch 19/100\n",
            "240/240 [==============================] - 0s 140us/step - loss: 918.7315\n",
            "Epoch 20/100\n",
            "240/240 [==============================] - 0s 126us/step - loss: 909.7807\n",
            "Epoch 21/100\n",
            "240/240 [==============================] - 0s 127us/step - loss: 900.5337\n",
            "Epoch 22/100\n",
            "240/240 [==============================] - 0s 129us/step - loss: 891.0006\n",
            "Epoch 23/100\n",
            "240/240 [==============================] - 0s 120us/step - loss: 881.2003\n",
            "Epoch 24/100\n",
            "240/240 [==============================] - 0s 138us/step - loss: 871.1613\n",
            "Epoch 25/100\n",
            "240/240 [==============================] - 0s 128us/step - loss: 860.9151\n",
            "Epoch 26/100\n",
            "240/240 [==============================] - 0s 124us/step - loss: 850.4971\n",
            "Epoch 27/100\n",
            "240/240 [==============================] - 0s 127us/step - loss: 839.9426\n",
            "Epoch 28/100\n",
            "240/240 [==============================] - 0s 131us/step - loss: 829.2844\n",
            "Epoch 29/100\n",
            "240/240 [==============================] - 0s 137us/step - loss: 818.5560\n",
            "Epoch 30/100\n",
            "240/240 [==============================] - 0s 126us/step - loss: 807.7864\n",
            "Epoch 31/100\n",
            "240/240 [==============================] - 0s 144us/step - loss: 797.0022\n",
            "Epoch 32/100\n",
            "240/240 [==============================] - 0s 135us/step - loss: 786.2273\n",
            "Epoch 33/100\n",
            "240/240 [==============================] - 0s 128us/step - loss: 775.4826\n",
            "Epoch 34/100\n",
            "240/240 [==============================] - 0s 127us/step - loss: 764.7857\n",
            "Epoch 35/100\n",
            "240/240 [==============================] - 0s 125us/step - loss: 754.1525\n",
            "Epoch 36/100\n",
            "240/240 [==============================] - 0s 128us/step - loss: 743.5974\n",
            "Epoch 37/100\n",
            "240/240 [==============================] - 0s 149us/step - loss: 733.1332\n",
            "Epoch 38/100\n",
            "240/240 [==============================] - 0s 127us/step - loss: 722.7712\n",
            "Epoch 39/100\n",
            "240/240 [==============================] - 0s 123us/step - loss: 712.5234\n",
            "Epoch 40/100\n",
            "240/240 [==============================] - 0s 122us/step - loss: 702.4017\n",
            "Epoch 41/100\n",
            "240/240 [==============================] - 0s 131us/step - loss: 692.4180\n",
            "Epoch 42/100\n",
            "240/240 [==============================] - 0s 125us/step - loss: 682.5843\n",
            "Epoch 43/100\n",
            "240/240 [==============================] - 0s 163us/step - loss: 672.9124\n",
            "Epoch 44/100\n",
            "240/240 [==============================] - 0s 149us/step - loss: 663.4130\n",
            "Epoch 45/100\n",
            "240/240 [==============================] - 0s 134us/step - loss: 654.0970\n",
            "Epoch 46/100\n",
            "240/240 [==============================] - 0s 122us/step - loss: 644.9741\n",
            "Epoch 47/100\n",
            "240/240 [==============================] - 0s 121us/step - loss: 636.0532\n",
            "Epoch 48/100\n",
            "240/240 [==============================] - 0s 125us/step - loss: 627.3441\n",
            "Epoch 49/100\n",
            "240/240 [==============================] - 0s 126us/step - loss: 618.8596\n",
            "Epoch 50/100\n",
            "240/240 [==============================] - 0s 133us/step - loss: 610.6160\n",
            "Epoch 51/100\n",
            "240/240 [==============================] - 0s 126us/step - loss: 602.6329\n",
            "Epoch 52/100\n",
            "240/240 [==============================] - 0s 122us/step - loss: 594.9269\n",
            "Epoch 53/100\n",
            "240/240 [==============================] - 0s 128us/step - loss: 587.5080\n",
            "Epoch 54/100\n",
            "240/240 [==============================] - 0s 122us/step - loss: 580.3800\n",
            "Epoch 55/100\n",
            "240/240 [==============================] - 0s 127us/step - loss: 573.5489\n",
            "Epoch 56/100\n",
            "240/240 [==============================] - 0s 137us/step - loss: 567.0259\n",
            "Epoch 57/100\n",
            "240/240 [==============================] - 0s 145us/step - loss: 560.8192\n",
            "Epoch 58/100\n",
            "240/240 [==============================] - 0s 130us/step - loss: 554.9229\n",
            "Epoch 59/100\n",
            "240/240 [==============================] - 0s 165us/step - loss: 549.3203\n",
            "Epoch 60/100\n",
            "240/240 [==============================] - 0s 143us/step - loss: 543.9937\n",
            "Epoch 61/100\n",
            "240/240 [==============================] - 0s 142us/step - loss: 538.9290\n",
            "Epoch 62/100\n",
            "240/240 [==============================] - 0s 136us/step - loss: 534.1140\n",
            "Epoch 63/100\n",
            "240/240 [==============================] - 0s 144us/step - loss: 529.5386\n",
            "Epoch 64/100\n",
            "240/240 [==============================] - 0s 138us/step - loss: 525.1927\n",
            "Epoch 65/100\n",
            "240/240 [==============================] - 0s 138us/step - loss: 521.0665\n",
            "Epoch 66/100\n",
            "240/240 [==============================] - 0s 143us/step - loss: 517.1499\n",
            "Epoch 67/100\n",
            "240/240 [==============================] - 0s 151us/step - loss: 513.4332\n",
            "Epoch 68/100\n",
            "240/240 [==============================] - 0s 148us/step - loss: 509.9066\n",
            "Epoch 69/100\n",
            "240/240 [==============================] - 0s 152us/step - loss: 506.5607\n",
            "Epoch 70/100\n",
            "240/240 [==============================] - 0s 137us/step - loss: 503.3862\n",
            "Epoch 71/100\n",
            "240/240 [==============================] - 0s 139us/step - loss: 500.3741\n",
            "Epoch 72/100\n",
            "240/240 [==============================] - 0s 135us/step - loss: 497.5159\n",
            "Epoch 73/100\n",
            "240/240 [==============================] - 0s 139us/step - loss: 494.8034\n",
            "Epoch 74/100\n",
            "240/240 [==============================] - 0s 140us/step - loss: 492.2286\n",
            "Epoch 75/100\n",
            "240/240 [==============================] - 0s 141us/step - loss: 489.7840\n",
            "Epoch 76/100\n",
            "240/240 [==============================] - 0s 135us/step - loss: 487.4621\n",
            "Epoch 77/100\n",
            "240/240 [==============================] - 0s 136us/step - loss: 485.2564\n",
            "Epoch 78/100\n",
            "240/240 [==============================] - 0s 137us/step - loss: 483.1604\n",
            "Epoch 79/100\n",
            "240/240 [==============================] - 0s 156us/step - loss: 481.1677\n",
            "Epoch 80/100\n",
            "240/240 [==============================] - 0s 162us/step - loss: 479.2726\n",
            "Epoch 81/100\n",
            "240/240 [==============================] - 0s 147us/step - loss: 477.4698\n",
            "Epoch 82/100\n",
            "240/240 [==============================] - 0s 137us/step - loss: 475.7538\n",
            "Epoch 83/100\n",
            "240/240 [==============================] - 0s 142us/step - loss: 474.1199\n",
            "Epoch 84/100\n",
            "240/240 [==============================] - 0s 142us/step - loss: 472.5635\n",
            "Epoch 85/100\n",
            "240/240 [==============================] - 0s 149us/step - loss: 471.0801\n",
            "Epoch 86/100\n",
            "240/240 [==============================] - 0s 141us/step - loss: 469.6658\n",
            "Epoch 87/100\n",
            "240/240 [==============================] - 0s 141us/step - loss: 468.3166\n",
            "Epoch 88/100\n",
            "240/240 [==============================] - 0s 152us/step - loss: 467.0292\n",
            "Epoch 89/100\n",
            "240/240 [==============================] - 0s 146us/step - loss: 465.7998\n",
            "Epoch 90/100\n",
            "240/240 [==============================] - 0s 144us/step - loss: 464.6256\n",
            "Epoch 91/100\n",
            "240/240 [==============================] - 0s 154us/step - loss: 463.5033\n",
            "Epoch 92/100\n",
            "240/240 [==============================] - 0s 142us/step - loss: 462.4303\n",
            "Epoch 93/100\n",
            "240/240 [==============================] - 0s 146us/step - loss: 461.4038\n",
            "Epoch 94/100\n",
            "240/240 [==============================] - 0s 139us/step - loss: 460.4215\n",
            "Epoch 95/100\n",
            "240/240 [==============================] - 0s 141us/step - loss: 459.4809\n",
            "Epoch 96/100\n",
            "240/240 [==============================] - 0s 156us/step - loss: 458.5799\n",
            "Epoch 97/100\n",
            "240/240 [==============================] - 0s 152us/step - loss: 457.7164\n",
            "Epoch 98/100\n",
            "240/240 [==============================] - 0s 137us/step - loss: 456.8885\n",
            "Epoch 99/100\n",
            "240/240 [==============================] - 0s 136us/step - loss: 456.0943\n",
            "Epoch 100/100\n",
            "240/240 [==============================] - 0s 136us/step - loss: 455.3322\n"
          ],
          "name": "stdout"
        }
      ]
    },
    {
      "metadata": {
        "id": "irSNaFD1q407",
        "colab_type": "code",
        "outputId": "83095558-c531-4ef5-d8e8-ead55c741a5d",
        "colab": {
          "base_uri": "https://localhost:8080/",
          "height": 51
        }
      },
      "cell_type": "code",
      "source": [
        "# Hybrid ANN Score\n",
        "\n",
        "print(\"The R2 score on the Train set is:\\t{:0.3f}\".format(ms(y_train2, y_train_pred2)))\n",
        "print(\"The R2 score on the Test set is:\\t{:0.3f}\".format(ms(y_test2, y_test_pred2)))"
      ],
      "execution_count": 0,
      "outputs": [
        {
          "output_type": "stream",
          "text": [
            "The R2 score on the Train set is:\t454.509\n",
            "The R2 score on the Test set is:\t1280.965\n"
          ],
          "name": "stdout"
        }
      ]
    }
  ]
}